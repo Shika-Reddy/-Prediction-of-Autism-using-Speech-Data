{
 "cells": [
  {
   "cell_type": "code",
   "execution_count": 2,
   "id": "a1355e39-8aff-46a2-aaf2-7e74714f8561",
   "metadata": {},
   "outputs": [],
   "source": [
    "import zipfile\n",
    "import os"
   ]
  },
  {
   "cell_type": "code",
   "execution_count": 3,
   "id": "a736b3ee-952f-4eac-b3b6-4372b4ac8050",
   "metadata": {},
   "outputs": [],
   "source": [
    "zip_file_path=['Nadig.zip','Flusberg.zip']"
   ]
  },
  {
   "cell_type": "code",
   "execution_count": 4,
   "id": "70d0a6fe-96bb-4451-916a-75c779d56427",
   "metadata": {},
   "outputs": [],
   "source": [
    "output_directory='output_directory_ASD'\n",
    "os.makedirs(output_directory,exist_ok=True)"
   ]
  },
  {
   "cell_type": "code",
   "execution_count": 5,
   "id": "4dea514e-8ccd-40ec-a4eb-29101906b897",
   "metadata": {},
   "outputs": [],
   "source": [
    "for zip_file_paths in zip_file_path:\n",
    "    with zipfile.ZipFile(zip_file_paths,'r') as zip_reference:\n",
    "        all_files=zip_reference.namelist()\n",
    "        cha_files=[files for files in all_files if files.endswith('.cha')]\n",
    "        for i in cha_files:\n",
    "            zip_reference.extract(i,output_directory)"
   ]
  },
  {
   "cell_type": "code",
   "execution_count": 7,
   "id": "790696b6-86c8-4a6f-bbd9-f1cb7a20a8ca",
   "metadata": {},
   "outputs": [],
   "source": [
    "zip_file_path='Eigsti.zip'"
   ]
  },
  {
   "cell_type": "code",
   "execution_count": 8,
   "id": "463b4039-964a-438e-9d7b-f04eaf2cd66b",
   "metadata": {},
   "outputs": [],
   "source": [
    "with zipfile.ZipFile(zip_file_path) as zip_reference:\n",
    "    all_files=zip_reference.namelist()\n",
    "    cha_files=[files for files in all_files if files.startswith('ASD/')]\n",
    "    for i in cha_files:\n",
    "        zip_reference.extract(i,output_directory)"
   ]
  },
  {
   "cell_type": "code",
   "execution_count": 11,
   "id": "7b2c14eb-79e6-4b70-a32d-609fc83bc0ae",
   "metadata": {},
   "outputs": [],
   "source": []
  },
  {
   "cell_type": "code",
   "execution_count": null,
   "id": "9dad6e33-5fdc-4555-ad7e-1c9b4e6d5a95",
   "metadata": {},
   "outputs": [],
   "source": []
  }
 ],
 "metadata": {
  "kernelspec": {
   "display_name": "Python 3 (ipykernel)",
   "language": "python",
   "name": "python3"
  },
  "language_info": {
   "codemirror_mode": {
    "name": "ipython",
    "version": 3
   },
   "file_extension": ".py",
   "mimetype": "text/x-python",
   "name": "python",
   "nbconvert_exporter": "python",
   "pygments_lexer": "ipython3",
   "version": "3.12.4"
  }
 },
 "nbformat": 4,
 "nbformat_minor": 5
}
